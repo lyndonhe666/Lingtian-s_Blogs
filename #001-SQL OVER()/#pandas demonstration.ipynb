{
 "nbformat": 4,
 "nbformat_minor": 2,
 "metadata": {
  "language_info": {
   "name": "python",
   "codemirror_mode": {
    "name": "ipython",
    "version": 3
   },
   "version": "3.7.1"
  },
  "orig_nbformat": 2,
  "file_extension": ".py",
  "mimetype": "text/x-python",
  "name": "python",
  "npconvert_exporter": "python",
  "pygments_lexer": "ipython3",
  "version": 3
 },
 "cells": [
  {
   "cell_type": "code",
   "execution_count": 2,
   "metadata": {},
   "outputs": [],
   "source": [
    "import pandas as pd\n",
    "import numpy as np"
   ]
  },
  {
   "cell_type": "code",
   "execution_count": 3,
   "metadata": {},
   "outputs": [],
   "source": [
    "# create dataframe same as the example\n",
    "df1 = pd.DataFrame({'Id':list(range(1,9)),\n",
    "                   'Class':[1,1,2,1,2,3,3,1],\n",
    "                   'Grade':[86,95,89,83,86,92,86,88]})"
   ]
  },
  {
   "cell_type": "code",
   "execution_count": 4,
   "metadata": {},
   "outputs": [
    {
     "data": {
      "text/html": "<div>\n<style scoped>\n    .dataframe tbody tr th:only-of-type {\n        vertical-align: middle;\n    }\n\n    .dataframe tbody tr th {\n        vertical-align: top;\n    }\n\n    .dataframe thead th {\n        text-align: right;\n    }\n</style>\n<table border=\"1\" class=\"dataframe\">\n  <thead>\n    <tr style=\"text-align: right;\">\n      <th></th>\n      <th>Id</th>\n      <th>Class</th>\n      <th>Grade</th>\n    </tr>\n  </thead>\n  <tbody>\n    <tr>\n      <th>0</th>\n      <td>1</td>\n      <td>1</td>\n      <td>86</td>\n    </tr>\n    <tr>\n      <th>1</th>\n      <td>2</td>\n      <td>1</td>\n      <td>95</td>\n    </tr>\n    <tr>\n      <th>2</th>\n      <td>3</td>\n      <td>2</td>\n      <td>89</td>\n    </tr>\n    <tr>\n      <th>3</th>\n      <td>4</td>\n      <td>1</td>\n      <td>83</td>\n    </tr>\n    <tr>\n      <th>4</th>\n      <td>5</td>\n      <td>2</td>\n      <td>86</td>\n    </tr>\n    <tr>\n      <th>5</th>\n      <td>6</td>\n      <td>3</td>\n      <td>92</td>\n    </tr>\n    <tr>\n      <th>6</th>\n      <td>7</td>\n      <td>3</td>\n      <td>86</td>\n    </tr>\n    <tr>\n      <th>7</th>\n      <td>8</td>\n      <td>1</td>\n      <td>88</td>\n    </tr>\n  </tbody>\n</table>\n</div>",
      "text/plain": "   Id  Class  Grade\n0   1      1     86\n1   2      1     95\n2   3      2     89\n3   4      1     83\n4   5      2     86\n5   6      3     92\n6   7      3     86\n7   8      1     88"
     },
     "execution_count": 4,
     "metadata": {},
     "output_type": "execute_result"
    }
   ],
   "source": [
    "df1"
   ]
  },
  {
   "cell_type": "code",
   "execution_count": 5,
   "metadata": {},
   "outputs": [
    {
     "data": {
      "text/html": "<div>\n<style scoped>\n    .dataframe tbody tr th:only-of-type {\n        vertical-align: middle;\n    }\n\n    .dataframe tbody tr th {\n        vertical-align: top;\n    }\n\n    .dataframe thead th {\n        text-align: right;\n    }\n</style>\n<table border=\"1\" class=\"dataframe\">\n  <thead>\n    <tr style=\"text-align: right;\">\n      <th></th>\n      <th>Ranking</th>\n      <th>Id</th>\n      <th>Class</th>\n      <th>Grade</th>\n    </tr>\n  </thead>\n  <tbody>\n    <tr>\n      <th>1</th>\n      <td>1.0</td>\n      <td>2</td>\n      <td>1</td>\n      <td>95</td>\n    </tr>\n    <tr>\n      <th>7</th>\n      <td>2.0</td>\n      <td>8</td>\n      <td>1</td>\n      <td>88</td>\n    </tr>\n    <tr>\n      <th>0</th>\n      <td>3.0</td>\n      <td>1</td>\n      <td>1</td>\n      <td>86</td>\n    </tr>\n    <tr>\n      <th>3</th>\n      <td>4.0</td>\n      <td>4</td>\n      <td>1</td>\n      <td>83</td>\n    </tr>\n    <tr>\n      <th>2</th>\n      <td>1.0</td>\n      <td>3</td>\n      <td>2</td>\n      <td>89</td>\n    </tr>\n    <tr>\n      <th>4</th>\n      <td>2.0</td>\n      <td>5</td>\n      <td>2</td>\n      <td>86</td>\n    </tr>\n    <tr>\n      <th>5</th>\n      <td>1.0</td>\n      <td>6</td>\n      <td>3</td>\n      <td>92</td>\n    </tr>\n    <tr>\n      <th>6</th>\n      <td>2.0</td>\n      <td>7</td>\n      <td>3</td>\n      <td>86</td>\n    </tr>\n  </tbody>\n</table>\n</div>",
      "text/plain": "   Ranking  Id  Class  Grade\n1      1.0   2      1     95\n7      2.0   8      1     88\n0      3.0   1      1     86\n3      4.0   4      1     83\n2      1.0   3      2     89\n4      2.0   5      2     86\n5      1.0   6      3     92\n6      2.0   7      3     86"
     },
     "execution_count": 5,
     "metadata": {},
     "output_type": "execute_result"
    }
   ],
   "source": [
    "# use rank\n",
    "pd.DataFrame(df1.groupby('Class')['Grade'].rank(ascending=False)).reset_index().merge(df1.reset_index(),how='right',on='index').sort_values(['Class','Grade_x']).rename(columns={'Grade_x':'Ranking',\n",
    "'Grade_y':'Grade'}).drop('index',axis=1)"
   ]
  },
  {
   "cell_type": "code",
   "execution_count": 10,
   "metadata": {},
   "outputs": [
    {
     "data": {
      "text/html": "<div>\n<style scoped>\n    .dataframe tbody tr th:only-of-type {\n        vertical-align: middle;\n    }\n\n    .dataframe tbody tr th {\n        vertical-align: top;\n    }\n\n    .dataframe thead th {\n        text-align: right;\n    }\n</style>\n<table border=\"1\" class=\"dataframe\">\n  <thead>\n    <tr style=\"text-align: right;\">\n      <th></th>\n      <th>Id</th>\n      <th>Class</th>\n      <th>Grade</th>\n      <th>current_sum</th>\n    </tr>\n  </thead>\n  <tbody>\n    <tr>\n      <th>0</th>\n      <td>1</td>\n      <td>1</td>\n      <td>86</td>\n      <td>86</td>\n    </tr>\n    <tr>\n      <th>1</th>\n      <td>2</td>\n      <td>1</td>\n      <td>95</td>\n      <td>181</td>\n    </tr>\n    <tr>\n      <th>2</th>\n      <td>4</td>\n      <td>1</td>\n      <td>83</td>\n      <td>264</td>\n    </tr>\n    <tr>\n      <th>3</th>\n      <td>8</td>\n      <td>1</td>\n      <td>88</td>\n      <td>352</td>\n    </tr>\n    <tr>\n      <th>4</th>\n      <td>3</td>\n      <td>2</td>\n      <td>89</td>\n      <td>89</td>\n    </tr>\n    <tr>\n      <th>5</th>\n      <td>5</td>\n      <td>2</td>\n      <td>86</td>\n      <td>175</td>\n    </tr>\n    <tr>\n      <th>6</th>\n      <td>6</td>\n      <td>3</td>\n      <td>92</td>\n      <td>92</td>\n    </tr>\n    <tr>\n      <th>7</th>\n      <td>7</td>\n      <td>3</td>\n      <td>86</td>\n      <td>178</td>\n    </tr>\n  </tbody>\n</table>\n</div>",
      "text/plain": "   Id  Class  Grade  current_sum\n0   1      1     86           86\n1   2      1     95          181\n2   4      1     83          264\n3   8      1     88          352\n4   3      2     89           89\n5   5      2     86          175\n6   6      3     92           92\n7   7      3     86          178"
     },
     "execution_count": 10,
     "metadata": {},
     "output_type": "execute_result"
    }
   ],
   "source": [
    "# use rolling methods: comparing to SQL\n",
    "# equivalent SQL syntax: \n",
    "# SELECT *,\n",
    "# SUM(Grade) OVER(PARTITION BY Class ORDER BY Id) AS current_sum,\n",
    "pd.DataFrame(df1.sort_values('Class').groupby('Class')['Grade'].agg(np.cumsum)).reset_index().merge(df1.reset_index(),on='index').rename(columns={'Grade_x':'current_sum',\n",
    "'Grade_y':'Grade'}).drop('index',axis=1)[['Id','Class','Grade','current_sum']]"
   ]
  },
  {
   "cell_type": "code",
   "execution_count": 14,
   "metadata": {},
   "outputs": [
    {
     "data": {
      "text/html": "<div>\n<style scoped>\n    .dataframe tbody tr th:only-of-type {\n        vertical-align: middle;\n    }\n\n    .dataframe tbody tr th {\n        vertical-align: top;\n    }\n\n    .dataframe thead th {\n        text-align: right;\n    }\n</style>\n<table border=\"1\" class=\"dataframe\">\n  <thead>\n    <tr style=\"text-align: right;\">\n      <th></th>\n      <th>Id</th>\n      <th>Class</th>\n      <th>Grade</th>\n      <th>current_sum</th>\n    </tr>\n  </thead>\n  <tbody>\n    <tr>\n      <th>0</th>\n      <td>1</td>\n      <td>1</td>\n      <td>86</td>\n      <td>86</td>\n    </tr>\n    <tr>\n      <th>1</th>\n      <td>2</td>\n      <td>1</td>\n      <td>95</td>\n      <td>181</td>\n    </tr>\n    <tr>\n      <th>2</th>\n      <td>3</td>\n      <td>2</td>\n      <td>89</td>\n      <td>270</td>\n    </tr>\n    <tr>\n      <th>3</th>\n      <td>4</td>\n      <td>1</td>\n      <td>83</td>\n      <td>353</td>\n    </tr>\n    <tr>\n      <th>4</th>\n      <td>5</td>\n      <td>2</td>\n      <td>86</td>\n      <td>439</td>\n    </tr>\n    <tr>\n      <th>5</th>\n      <td>6</td>\n      <td>3</td>\n      <td>92</td>\n      <td>531</td>\n    </tr>\n    <tr>\n      <th>6</th>\n      <td>7</td>\n      <td>3</td>\n      <td>86</td>\n      <td>617</td>\n    </tr>\n    <tr>\n      <th>7</th>\n      <td>8</td>\n      <td>1</td>\n      <td>88</td>\n      <td>705</td>\n    </tr>\n  </tbody>\n</table>\n</div>",
      "text/plain": "   Id  Class  Grade  current_sum\n0   1      1     86           86\n1   2      1     95          181\n2   3      2     89          270\n3   4      1     83          353\n4   5      2     86          439\n5   6      3     92          531\n6   7      3     86          617\n7   8      1     88          705"
     },
     "execution_count": 14,
     "metadata": {},
     "output_type": "execute_result"
    }
   ],
   "source": [
    "# if there is no partition, then directly use np.cumsum(same as the example)\n",
    "pd.DataFrame(df1['Grade'].agg(np.cumsum)).reset_index().merge(df1.reset_index(),on='index').rename(columns={'Grade_x':'current_sum',\n",
    "'Grade_y':'Grade'}).drop('index',axis=1)[['Id','Class','Grade','current_sum']]"
   ]
  },
  {
   "cell_type": "markdown",
   "execution_count": null,
   "metadata": {},
   "outputs": [],
   "source": [
    "**Demonstrate implementing moving average**\n",
    "\n",
    "which is equivalent to \n",
    "\n",
    "SELECT *,\n",
    "\n",
    "AVG(Grade) OVER(PARTITION BY Class ORDER BY Id) AS current_sum\n",
    "\n",
    "FROM T1"
   ]
  },
  {
   "cell_type": "code",
   "execution_count": 15,
   "metadata": {},
   "outputs": [],
   "source": [
    "def cumavg(data):\n",
    "    return [np.mean(data[:i]) for i in range(len(data)+1) if len(data[:i])>0]\n",
    "\n",
    "def make_agg_func(func, name, *args, **kwargs):\n",
    "           def wrapper(x):\n",
    "               return func(x, *args, **kwargs)\n",
    "           wrapper.__name__ = name\n",
    "           return wrapper\n",
    "           \n",
    "cumavg_wrapped = make_agg_func(cumavg,'cumavg')"
   ]
  },
  {
   "cell_type": "code",
   "execution_count": 16,
   "metadata": {},
   "outputs": [],
   "source": [
    "# create a df for each group and then combine together\n",
    "def create_df(group_name):\n",
    "    g_keys = df1.sort_values('Class').groupby('Class')['Grade'].get_group(group_name).keys()\n",
    "    g_values = df1.sort_values('Class').groupby('Class')['Grade'].get_group(group_name).agg(cumavg)\n",
    "    g_df = pd.DataFrame({'index':g_keys,\n",
    "                         'cumavg':g_values})\n",
    "    return g_df"
   ]
  },
  {
   "cell_type": "code",
   "execution_count": 18,
   "metadata": {},
   "outputs": [
    {
     "data": {
      "text/html": "<div>\n<style scoped>\n    .dataframe tbody tr th:only-of-type {\n        vertical-align: middle;\n    }\n\n    .dataframe tbody tr th {\n        vertical-align: top;\n    }\n\n    .dataframe thead th {\n        text-align: right;\n    }\n</style>\n<table border=\"1\" class=\"dataframe\">\n  <thead>\n    <tr style=\"text-align: right;\">\n      <th></th>\n      <th>index</th>\n      <th>cumavg</th>\n    </tr>\n  </thead>\n  <tbody>\n    <tr>\n      <th>0</th>\n      <td>0</td>\n      <td>86.0</td>\n    </tr>\n    <tr>\n      <th>1</th>\n      <td>1</td>\n      <td>90.5</td>\n    </tr>\n    <tr>\n      <th>2</th>\n      <td>3</td>\n      <td>88.0</td>\n    </tr>\n    <tr>\n      <th>3</th>\n      <td>7</td>\n      <td>88.0</td>\n    </tr>\n  </tbody>\n</table>\n</div>",
      "text/plain": "   index  cumavg\n0      0    86.0\n1      1    90.5\n2      3    88.0\n3      7    88.0"
     },
     "execution_count": 18,
     "metadata": {},
     "output_type": "execute_result"
    }
   ],
   "source": [
    "# inspect group1\n",
    "dfs = [create_df(i) for i in range(1,4)]\n",
    "dfs[0]"
   ]
  },
  {
   "cell_type": "code",
   "execution_count": 19,
   "metadata": {},
   "outputs": [
    {
     "data": {
      "text/html": "<div>\n<style scoped>\n    .dataframe tbody tr th:only-of-type {\n        vertical-align: middle;\n    }\n\n    .dataframe tbody tr th {\n        vertical-align: top;\n    }\n\n    .dataframe thead th {\n        text-align: right;\n    }\n</style>\n<table border=\"1\" class=\"dataframe\">\n  <thead>\n    <tr style=\"text-align: right;\">\n      <th></th>\n      <th>Id</th>\n      <th>Class</th>\n      <th>Grade</th>\n      <th>cumavg</th>\n    </tr>\n  </thead>\n  <tbody>\n    <tr>\n      <th>0</th>\n      <td>1</td>\n      <td>1</td>\n      <td>86</td>\n      <td>86.0</td>\n    </tr>\n    <tr>\n      <th>1</th>\n      <td>2</td>\n      <td>1</td>\n      <td>95</td>\n      <td>90.5</td>\n    </tr>\n    <tr>\n      <th>2</th>\n      <td>4</td>\n      <td>1</td>\n      <td>83</td>\n      <td>88.0</td>\n    </tr>\n    <tr>\n      <th>3</th>\n      <td>8</td>\n      <td>1</td>\n      <td>88</td>\n      <td>88.0</td>\n    </tr>\n    <tr>\n      <th>4</th>\n      <td>3</td>\n      <td>2</td>\n      <td>89</td>\n      <td>89.0</td>\n    </tr>\n    <tr>\n      <th>5</th>\n      <td>5</td>\n      <td>2</td>\n      <td>86</td>\n      <td>87.5</td>\n    </tr>\n    <tr>\n      <th>6</th>\n      <td>6</td>\n      <td>3</td>\n      <td>92</td>\n      <td>92.0</td>\n    </tr>\n    <tr>\n      <th>7</th>\n      <td>7</td>\n      <td>3</td>\n      <td>86</td>\n      <td>89.0</td>\n    </tr>\n  </tbody>\n</table>\n</div>",
      "text/plain": "   Id  Class  Grade  cumavg\n0   1      1     86    86.0\n1   2      1     95    90.5\n2   4      1     83    88.0\n3   8      1     88    88.0\n4   3      2     89    89.0\n5   5      2     86    87.5\n6   6      3     92    92.0\n7   7      3     86    89.0"
     },
     "execution_count": 19,
     "metadata": {},
     "output_type": "execute_result"
    }
   ],
   "source": [
    "pd.concat(dfs).merge(df1.reset_index(),how='inner',on='index').drop('index',axis=1)[['Id','Class','Grade','cumavg']]"
   ]
  },
  {
   "cell_type": "code",
   "execution_count": null,
   "metadata": {},
   "outputs": [],
   "source": []
  }
 ]
}